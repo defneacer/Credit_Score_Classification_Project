{
 "cells": [
  {
   "cell_type": "markdown",
   "id": "485f13e7",
   "metadata": {},
   "source": [
    "<p style=\"background-color: purple; font-family: newtimeroman; font-size: 250%; color: #FFF9ED; border-radius: 80px 20px; padding: 25px; text-align: center;\"> <b> Credit Score Project</b>\n",
    "\n",
    "<span style=\"display: inline-block; width: calc(80% - 20px); text-align: center;\"></span> \n",
    "\n",
    "</p>"
   ]
  },
  {
   "cell_type": "markdown",
   "id": "c301cb02",
   "metadata": {},
   "source": [
    "- *ID*: The unique identifier for each record in the dataset.\n",
    "- *Customer_ID*: The unique identifier for each customer.\n",
    "- *Month*: The month to which the record corresponds.\n",
    "- *Name*: The name of the customer.\n",
    "- *Age*: The age of the customer. Note: There are some data quality issues, such as anomalous values.\n",
    "- *SSN*: The Social Security Number of the customer.\n",
    "- *Occupation*: The occupation of the customer.\n",
    "- *Annual_Income*: The annual income of the customer in USD.\n",
    "- *Monthly_Inhand_Salary*: The monthly take-home (net) salary of the customer in USD.\n",
    "- *Num_Bank_Accounts*: The number of bank accounts held by the customer.\n",
    "- *Num_Credit_Card*: The number of credit cards held by the customer.\n",
    "- *Interest_Rate*: The average interest rate (%) applicable to the customer's loans or credit cards.\n",
    "- *Num_of_Loan*: The number of loans (including mortgages, personal loans, auto loans, etc.) that the customer has.\n",
    "- *Type_of_Loan*: The types of loans taken by the customer, listed in a single cell and separated by semicolons.\n",
    "- *Delay_from_due_date*: The average delay (in days) from the due date for payments across all the customer's loans and credit cards.\n",
    "- *Num_of_Delayed_Payment*: The total number of times the customer has delayed payments across all loans and credit cards.\n",
    "- *Changed_Credit_Limit*: Any recent changes to the customer's credit limit (requires further context).\n",
    "- *Num_Credit_Inquiries*: The number of inquiries made on the customer's credit report, typically indicating applications for new credit.\n",
    "- *Credit_Mix*: The diversity of credit types held by the customer, affecting credit scores. Specific categories (e.g., \"Good\", \"Bad\") need further definition.\n",
    "- *Outstanding_Debt*: The total outstanding debt the customer has across all loans and credit lines.\n",
    "- *Credit_Utilization_Ratio*: The ratio of total debt to total available credit, a key indicator of credit risk.\n",
    "- *Credit_History_Age*: The age of the customer's credit history.\n",
    "- *Payment_of_Min_Amount*: Indicates whether the customer typically pays at least the minimum amount due on their debts.\n",
    "- *Total_EMI_per_month*: The total monthly payment the customer makes towards all their loans as EMI (Equated Monthly Installment).\n",
    "- *Amount_invested_monthly*: The amount of money the customer invests monthly (could be in savings accounts, stocks, bonds, etc.).\n",
    "- *Payment_Behaviour*: Characterizes the customer's payment behavior in terms of expenditure and value of transactions.\n",
    "- *Monthly_Balance*: The average monthly balance maintained by the customer in their accounts.\n",
    "- *Credit_Score*: The credit score of the customer, a summary measure of their creditworthiness."
   ]
  },
  {
   "cell_type": "markdown",
   "id": "925fc33c",
   "metadata": {},
   "source": [
    "### Installing Tensorflow"
   ]
  },
  {
   "cell_type": "code",
   "execution_count": 1,
   "id": "c88d4f44",
   "metadata": {
    "ExecuteTime": {
     "end_time": "2024-04-04T21:22:47.607508Z",
     "start_time": "2024-04-04T21:22:47.601980Z"
    }
   },
   "outputs": [],
   "source": [
    "#pip install keras"
   ]
  },
  {
   "cell_type": "code",
   "execution_count": 2,
   "id": "fae1e05d",
   "metadata": {
    "ExecuteTime": {
     "end_time": "2024-04-04T21:22:47.975194Z",
     "start_time": "2024-04-04T21:22:47.970189Z"
    }
   },
   "outputs": [],
   "source": [
    "#!pip install tensorflow"
   ]
  },
  {
   "cell_type": "markdown",
   "id": "5698a14a",
   "metadata": {},
   "source": [
    "## Import Libraries"
   ]
  },
  {
   "cell_type": "code",
   "execution_count": 3,
   "id": "44c893d4",
   "metadata": {
    "ExecuteTime": {
     "end_time": "2024-04-04T21:22:53.788556Z",
     "start_time": "2024-04-04T21:22:48.732633Z"
    }
   },
   "outputs": [],
   "source": [
    "import tensorflow as tf"
   ]
  },
  {
   "cell_type": "code",
   "execution_count": 4,
   "id": "43e64b4e",
   "metadata": {
    "ExecuteTime": {
     "end_time": "2024-04-04T21:23:02.492196Z",
     "start_time": "2024-04-04T21:23:00.688341Z"
    }
   },
   "outputs": [],
   "source": [
    "import numpy as np\n",
    "import pandas as pd\n",
    "import matplotlib.pyplot as plt\n",
    "import seaborn as sns\n",
    "\n",
    "from skimpy import clean_columns\n",
    "\n",
    "import warnings\n",
    "warnings.filterwarnings(\"ignore\")\n",
    "warnings.warn(\"this will not show\")\n",
    "\n",
    "plt.rcParams[\"figure.figsize\"] = (10,6)\n",
    "\n",
    "sns.set_style(\"whitegrid\")\n",
    "pd.set_option('display.float_format', lambda x: '%.3f' % x)\n",
    "\n",
    "# Set it None to display all rows in the dataframe\n",
    "# pd.set_option('display.max_rows', None)\n",
    "\n",
    "# Set it to None to display all columns in the dataframe\n",
    "pd.set_option('display.max_columns', None)"
   ]
  },
  {
   "cell_type": "markdown",
   "id": "3dd350b4",
   "metadata": {},
   "source": [
    "## Read Data Sets"
   ]
  },
  {
   "cell_type": "code",
   "execution_count": 5,
   "id": "685359be",
   "metadata": {
    "ExecuteTime": {
     "end_time": "2024-04-04T21:23:32.811572Z",
     "start_time": "2024-04-04T21:23:32.089917Z"
    }
   },
   "outputs": [
    {
     "data": {
      "text/html": [
       "<div>\n",
       "<style scoped>\n",
       "    .dataframe tbody tr th:only-of-type {\n",
       "        vertical-align: middle;\n",
       "    }\n",
       "\n",
       "    .dataframe tbody tr th {\n",
       "        vertical-align: top;\n",
       "    }\n",
       "\n",
       "    .dataframe thead th {\n",
       "        text-align: right;\n",
       "    }\n",
       "</style>\n",
       "<table border=\"1\" class=\"dataframe\">\n",
       "  <thead>\n",
       "    <tr style=\"text-align: right;\">\n",
       "      <th></th>\n",
       "      <th>ID</th>\n",
       "      <th>Customer_ID</th>\n",
       "      <th>Month</th>\n",
       "      <th>Name</th>\n",
       "      <th>Age</th>\n",
       "      <th>SSN</th>\n",
       "      <th>Occupation</th>\n",
       "      <th>Annual_Income</th>\n",
       "      <th>Monthly_Inhand_Salary</th>\n",
       "      <th>Num_Bank_Accounts</th>\n",
       "      <th>Num_Credit_Card</th>\n",
       "      <th>Interest_Rate</th>\n",
       "      <th>Num_of_Loan</th>\n",
       "      <th>Type_of_Loan</th>\n",
       "      <th>Delay_from_due_date</th>\n",
       "      <th>Num_of_Delayed_Payment</th>\n",
       "      <th>Changed_Credit_Limit</th>\n",
       "      <th>Num_Credit_Inquiries</th>\n",
       "      <th>Credit_Mix</th>\n",
       "      <th>Outstanding_Debt</th>\n",
       "      <th>Credit_Utilization_Ratio</th>\n",
       "      <th>Credit_History_Age</th>\n",
       "      <th>Payment_of_Min_Amount</th>\n",
       "      <th>Total_EMI_per_month</th>\n",
       "      <th>Amount_invested_monthly</th>\n",
       "      <th>Payment_Behaviour</th>\n",
       "      <th>Monthly_Balance</th>\n",
       "      <th>Credit_Score</th>\n",
       "    </tr>\n",
       "  </thead>\n",
       "  <tbody>\n",
       "    <tr>\n",
       "      <th>0</th>\n",
       "      <td>0x1602</td>\n",
       "      <td>CUS_0xd40</td>\n",
       "      <td>January</td>\n",
       "      <td>Aaron Maashoh</td>\n",
       "      <td>23</td>\n",
       "      <td>821-00-0265</td>\n",
       "      <td>Scientist</td>\n",
       "      <td>19114.12</td>\n",
       "      <td>1824.843</td>\n",
       "      <td>3</td>\n",
       "      <td>4</td>\n",
       "      <td>3</td>\n",
       "      <td>4</td>\n",
       "      <td>Auto Loan, Credit-Builder Loan, Personal Loan,...</td>\n",
       "      <td>3</td>\n",
       "      <td>7</td>\n",
       "      <td>11.27</td>\n",
       "      <td>4.000</td>\n",
       "      <td>_</td>\n",
       "      <td>809.98</td>\n",
       "      <td>26.823</td>\n",
       "      <td>22 Years and 1 Months</td>\n",
       "      <td>No</td>\n",
       "      <td>49.575</td>\n",
       "      <td>80.41529543900253</td>\n",
       "      <td>High_spent_Small_value_payments</td>\n",
       "      <td>312.49408867943663</td>\n",
       "      <td>Good</td>\n",
       "    </tr>\n",
       "    <tr>\n",
       "      <th>1</th>\n",
       "      <td>0x1603</td>\n",
       "      <td>CUS_0xd40</td>\n",
       "      <td>February</td>\n",
       "      <td>Aaron Maashoh</td>\n",
       "      <td>23</td>\n",
       "      <td>821-00-0265</td>\n",
       "      <td>Scientist</td>\n",
       "      <td>19114.12</td>\n",
       "      <td>NaN</td>\n",
       "      <td>3</td>\n",
       "      <td>4</td>\n",
       "      <td>3</td>\n",
       "      <td>4</td>\n",
       "      <td>Auto Loan, Credit-Builder Loan, Personal Loan,...</td>\n",
       "      <td>-1</td>\n",
       "      <td>NaN</td>\n",
       "      <td>11.27</td>\n",
       "      <td>4.000</td>\n",
       "      <td>Good</td>\n",
       "      <td>809.98</td>\n",
       "      <td>31.945</td>\n",
       "      <td>NaN</td>\n",
       "      <td>No</td>\n",
       "      <td>49.575</td>\n",
       "      <td>118.28022162236736</td>\n",
       "      <td>Low_spent_Large_value_payments</td>\n",
       "      <td>284.62916249607184</td>\n",
       "      <td>Good</td>\n",
       "    </tr>\n",
       "    <tr>\n",
       "      <th>2</th>\n",
       "      <td>0x1604</td>\n",
       "      <td>CUS_0xd40</td>\n",
       "      <td>March</td>\n",
       "      <td>Aaron Maashoh</td>\n",
       "      <td>-500</td>\n",
       "      <td>821-00-0265</td>\n",
       "      <td>Scientist</td>\n",
       "      <td>19114.12</td>\n",
       "      <td>NaN</td>\n",
       "      <td>3</td>\n",
       "      <td>4</td>\n",
       "      <td>3</td>\n",
       "      <td>4</td>\n",
       "      <td>Auto Loan, Credit-Builder Loan, Personal Loan,...</td>\n",
       "      <td>3</td>\n",
       "      <td>7</td>\n",
       "      <td>_</td>\n",
       "      <td>4.000</td>\n",
       "      <td>Good</td>\n",
       "      <td>809.98</td>\n",
       "      <td>28.609</td>\n",
       "      <td>22 Years and 3 Months</td>\n",
       "      <td>No</td>\n",
       "      <td>49.575</td>\n",
       "      <td>81.699521264648</td>\n",
       "      <td>Low_spent_Medium_value_payments</td>\n",
       "      <td>331.2098628537912</td>\n",
       "      <td>Good</td>\n",
       "    </tr>\n",
       "    <tr>\n",
       "      <th>3</th>\n",
       "      <td>0x1605</td>\n",
       "      <td>CUS_0xd40</td>\n",
       "      <td>April</td>\n",
       "      <td>Aaron Maashoh</td>\n",
       "      <td>23</td>\n",
       "      <td>821-00-0265</td>\n",
       "      <td>Scientist</td>\n",
       "      <td>19114.12</td>\n",
       "      <td>NaN</td>\n",
       "      <td>3</td>\n",
       "      <td>4</td>\n",
       "      <td>3</td>\n",
       "      <td>4</td>\n",
       "      <td>Auto Loan, Credit-Builder Loan, Personal Loan,...</td>\n",
       "      <td>5</td>\n",
       "      <td>4</td>\n",
       "      <td>6.27</td>\n",
       "      <td>4.000</td>\n",
       "      <td>Good</td>\n",
       "      <td>809.98</td>\n",
       "      <td>31.378</td>\n",
       "      <td>22 Years and 4 Months</td>\n",
       "      <td>No</td>\n",
       "      <td>49.575</td>\n",
       "      <td>199.4580743910713</td>\n",
       "      <td>Low_spent_Small_value_payments</td>\n",
       "      <td>223.45130972736786</td>\n",
       "      <td>Good</td>\n",
       "    </tr>\n",
       "    <tr>\n",
       "      <th>4</th>\n",
       "      <td>0x1606</td>\n",
       "      <td>CUS_0xd40</td>\n",
       "      <td>May</td>\n",
       "      <td>Aaron Maashoh</td>\n",
       "      <td>23</td>\n",
       "      <td>821-00-0265</td>\n",
       "      <td>Scientist</td>\n",
       "      <td>19114.12</td>\n",
       "      <td>1824.843</td>\n",
       "      <td>3</td>\n",
       "      <td>4</td>\n",
       "      <td>3</td>\n",
       "      <td>4</td>\n",
       "      <td>Auto Loan, Credit-Builder Loan, Personal Loan,...</td>\n",
       "      <td>6</td>\n",
       "      <td>NaN</td>\n",
       "      <td>11.27</td>\n",
       "      <td>4.000</td>\n",
       "      <td>Good</td>\n",
       "      <td>809.98</td>\n",
       "      <td>24.797</td>\n",
       "      <td>22 Years and 5 Months</td>\n",
       "      <td>No</td>\n",
       "      <td>49.575</td>\n",
       "      <td>41.420153086217326</td>\n",
       "      <td>High_spent_Medium_value_payments</td>\n",
       "      <td>341.48923103222177</td>\n",
       "      <td>Good</td>\n",
       "    </tr>\n",
       "  </tbody>\n",
       "</table>\n",
       "</div>"
      ],
      "text/plain": [
       "       ID Customer_ID     Month           Name   Age          SSN Occupation  \\\n",
       "0  0x1602   CUS_0xd40   January  Aaron Maashoh    23  821-00-0265  Scientist   \n",
       "1  0x1603   CUS_0xd40  February  Aaron Maashoh    23  821-00-0265  Scientist   \n",
       "2  0x1604   CUS_0xd40     March  Aaron Maashoh  -500  821-00-0265  Scientist   \n",
       "3  0x1605   CUS_0xd40     April  Aaron Maashoh    23  821-00-0265  Scientist   \n",
       "4  0x1606   CUS_0xd40       May  Aaron Maashoh    23  821-00-0265  Scientist   \n",
       "\n",
       "  Annual_Income  Monthly_Inhand_Salary  Num_Bank_Accounts  Num_Credit_Card  \\\n",
       "0      19114.12               1824.843                  3                4   \n",
       "1      19114.12                    NaN                  3                4   \n",
       "2      19114.12                    NaN                  3                4   \n",
       "3      19114.12                    NaN                  3                4   \n",
       "4      19114.12               1824.843                  3                4   \n",
       "\n",
       "   Interest_Rate Num_of_Loan  \\\n",
       "0              3           4   \n",
       "1              3           4   \n",
       "2              3           4   \n",
       "3              3           4   \n",
       "4              3           4   \n",
       "\n",
       "                                        Type_of_Loan  Delay_from_due_date  \\\n",
       "0  Auto Loan, Credit-Builder Loan, Personal Loan,...                    3   \n",
       "1  Auto Loan, Credit-Builder Loan, Personal Loan,...                   -1   \n",
       "2  Auto Loan, Credit-Builder Loan, Personal Loan,...                    3   \n",
       "3  Auto Loan, Credit-Builder Loan, Personal Loan,...                    5   \n",
       "4  Auto Loan, Credit-Builder Loan, Personal Loan,...                    6   \n",
       "\n",
       "  Num_of_Delayed_Payment Changed_Credit_Limit  Num_Credit_Inquiries  \\\n",
       "0                      7                11.27                 4.000   \n",
       "1                    NaN                11.27                 4.000   \n",
       "2                      7                    _                 4.000   \n",
       "3                      4                 6.27                 4.000   \n",
       "4                    NaN                11.27                 4.000   \n",
       "\n",
       "  Credit_Mix Outstanding_Debt  Credit_Utilization_Ratio  \\\n",
       "0          _           809.98                    26.823   \n",
       "1       Good           809.98                    31.945   \n",
       "2       Good           809.98                    28.609   \n",
       "3       Good           809.98                    31.378   \n",
       "4       Good           809.98                    24.797   \n",
       "\n",
       "      Credit_History_Age Payment_of_Min_Amount  Total_EMI_per_month  \\\n",
       "0  22 Years and 1 Months                    No               49.575   \n",
       "1                    NaN                    No               49.575   \n",
       "2  22 Years and 3 Months                    No               49.575   \n",
       "3  22 Years and 4 Months                    No               49.575   \n",
       "4  22 Years and 5 Months                    No               49.575   \n",
       "\n",
       "  Amount_invested_monthly                 Payment_Behaviour  \\\n",
       "0       80.41529543900253   High_spent_Small_value_payments   \n",
       "1      118.28022162236736    Low_spent_Large_value_payments   \n",
       "2         81.699521264648   Low_spent_Medium_value_payments   \n",
       "3       199.4580743910713    Low_spent_Small_value_payments   \n",
       "4      41.420153086217326  High_spent_Medium_value_payments   \n",
       "\n",
       "      Monthly_Balance Credit_Score  \n",
       "0  312.49408867943663         Good  \n",
       "1  284.62916249607184         Good  \n",
       "2   331.2098628537912         Good  \n",
       "3  223.45130972736786         Good  \n",
       "4  341.48923103222177         Good  "
      ]
     },
     "execution_count": 5,
     "metadata": {},
     "output_type": "execute_result"
    }
   ],
   "source": [
    "df = pd.read_csv(\"train.csv\")\n",
    "df.head()"
   ]
  },
  {
   "cell_type": "code",
   "execution_count": 6,
   "id": "10e3fcd2",
   "metadata": {
    "ExecuteTime": {
     "end_time": "2024-04-04T21:23:33.259717Z",
     "start_time": "2024-04-04T21:23:32.863555Z"
    }
   },
   "outputs": [
    {
     "data": {
      "text/html": [
       "<div>\n",
       "<style scoped>\n",
       "    .dataframe tbody tr th:only-of-type {\n",
       "        vertical-align: middle;\n",
       "    }\n",
       "\n",
       "    .dataframe tbody tr th {\n",
       "        vertical-align: top;\n",
       "    }\n",
       "\n",
       "    .dataframe thead th {\n",
       "        text-align: right;\n",
       "    }\n",
       "</style>\n",
       "<table border=\"1\" class=\"dataframe\">\n",
       "  <thead>\n",
       "    <tr style=\"text-align: right;\">\n",
       "      <th></th>\n",
       "      <th>ID</th>\n",
       "      <th>Customer_ID</th>\n",
       "      <th>Month</th>\n",
       "      <th>Name</th>\n",
       "      <th>Age</th>\n",
       "      <th>SSN</th>\n",
       "      <th>Occupation</th>\n",
       "      <th>Annual_Income</th>\n",
       "      <th>Monthly_Inhand_Salary</th>\n",
       "      <th>Num_Bank_Accounts</th>\n",
       "      <th>Num_Credit_Card</th>\n",
       "      <th>Interest_Rate</th>\n",
       "      <th>Num_of_Loan</th>\n",
       "      <th>Type_of_Loan</th>\n",
       "      <th>Delay_from_due_date</th>\n",
       "      <th>Num_of_Delayed_Payment</th>\n",
       "      <th>Changed_Credit_Limit</th>\n",
       "      <th>Num_Credit_Inquiries</th>\n",
       "      <th>Credit_Mix</th>\n",
       "      <th>Outstanding_Debt</th>\n",
       "      <th>Credit_Utilization_Ratio</th>\n",
       "      <th>Credit_History_Age</th>\n",
       "      <th>Payment_of_Min_Amount</th>\n",
       "      <th>Total_EMI_per_month</th>\n",
       "      <th>Amount_invested_monthly</th>\n",
       "      <th>Payment_Behaviour</th>\n",
       "      <th>Monthly_Balance</th>\n",
       "    </tr>\n",
       "  </thead>\n",
       "  <tbody>\n",
       "    <tr>\n",
       "      <th>0</th>\n",
       "      <td>0x160a</td>\n",
       "      <td>CUS_0xd40</td>\n",
       "      <td>September</td>\n",
       "      <td>Aaron Maashoh</td>\n",
       "      <td>23</td>\n",
       "      <td>821-00-0265</td>\n",
       "      <td>Scientist</td>\n",
       "      <td>19114.12</td>\n",
       "      <td>1824.843</td>\n",
       "      <td>3</td>\n",
       "      <td>4</td>\n",
       "      <td>3</td>\n",
       "      <td>4</td>\n",
       "      <td>Auto Loan, Credit-Builder Loan, Personal Loan,...</td>\n",
       "      <td>3</td>\n",
       "      <td>7</td>\n",
       "      <td>11.27</td>\n",
       "      <td>2022.000</td>\n",
       "      <td>Good</td>\n",
       "      <td>809.98</td>\n",
       "      <td>35.030</td>\n",
       "      <td>22 Years and 9 Months</td>\n",
       "      <td>No</td>\n",
       "      <td>49.575</td>\n",
       "      <td>236.64268203272135</td>\n",
       "      <td>Low_spent_Small_value_payments</td>\n",
       "      <td>186.26670208571772</td>\n",
       "    </tr>\n",
       "    <tr>\n",
       "      <th>1</th>\n",
       "      <td>0x160b</td>\n",
       "      <td>CUS_0xd40</td>\n",
       "      <td>October</td>\n",
       "      <td>Aaron Maashoh</td>\n",
       "      <td>24</td>\n",
       "      <td>821-00-0265</td>\n",
       "      <td>Scientist</td>\n",
       "      <td>19114.12</td>\n",
       "      <td>1824.843</td>\n",
       "      <td>3</td>\n",
       "      <td>4</td>\n",
       "      <td>3</td>\n",
       "      <td>4</td>\n",
       "      <td>Auto Loan, Credit-Builder Loan, Personal Loan,...</td>\n",
       "      <td>3</td>\n",
       "      <td>9</td>\n",
       "      <td>13.27</td>\n",
       "      <td>4.000</td>\n",
       "      <td>Good</td>\n",
       "      <td>809.98</td>\n",
       "      <td>33.053</td>\n",
       "      <td>22 Years and 10 Months</td>\n",
       "      <td>No</td>\n",
       "      <td>49.575</td>\n",
       "      <td>21.465380264657146</td>\n",
       "      <td>High_spent_Medium_value_payments</td>\n",
       "      <td>361.44400385378196</td>\n",
       "    </tr>\n",
       "    <tr>\n",
       "      <th>2</th>\n",
       "      <td>0x160c</td>\n",
       "      <td>CUS_0xd40</td>\n",
       "      <td>November</td>\n",
       "      <td>Aaron Maashoh</td>\n",
       "      <td>24</td>\n",
       "      <td>821-00-0265</td>\n",
       "      <td>Scientist</td>\n",
       "      <td>19114.12</td>\n",
       "      <td>1824.843</td>\n",
       "      <td>3</td>\n",
       "      <td>4</td>\n",
       "      <td>3</td>\n",
       "      <td>4</td>\n",
       "      <td>Auto Loan, Credit-Builder Loan, Personal Loan,...</td>\n",
       "      <td>-1</td>\n",
       "      <td>4</td>\n",
       "      <td>12.27</td>\n",
       "      <td>4.000</td>\n",
       "      <td>Good</td>\n",
       "      <td>809.98</td>\n",
       "      <td>33.812</td>\n",
       "      <td>NaN</td>\n",
       "      <td>No</td>\n",
       "      <td>49.575</td>\n",
       "      <td>148.23393788500925</td>\n",
       "      <td>Low_spent_Medium_value_payments</td>\n",
       "      <td>264.67544623342997</td>\n",
       "    </tr>\n",
       "    <tr>\n",
       "      <th>3</th>\n",
       "      <td>0x160d</td>\n",
       "      <td>CUS_0xd40</td>\n",
       "      <td>December</td>\n",
       "      <td>Aaron Maashoh</td>\n",
       "      <td>24_</td>\n",
       "      <td>821-00-0265</td>\n",
       "      <td>Scientist</td>\n",
       "      <td>19114.12</td>\n",
       "      <td>NaN</td>\n",
       "      <td>3</td>\n",
       "      <td>4</td>\n",
       "      <td>3</td>\n",
       "      <td>4</td>\n",
       "      <td>Auto Loan, Credit-Builder Loan, Personal Loan,...</td>\n",
       "      <td>4</td>\n",
       "      <td>5</td>\n",
       "      <td>11.27</td>\n",
       "      <td>4.000</td>\n",
       "      <td>Good</td>\n",
       "      <td>809.98</td>\n",
       "      <td>32.431</td>\n",
       "      <td>23 Years and 0 Months</td>\n",
       "      <td>No</td>\n",
       "      <td>49.575</td>\n",
       "      <td>39.08251089460281</td>\n",
       "      <td>High_spent_Medium_value_payments</td>\n",
       "      <td>343.82687322383634</td>\n",
       "    </tr>\n",
       "    <tr>\n",
       "      <th>4</th>\n",
       "      <td>0x1616</td>\n",
       "      <td>CUS_0x21b1</td>\n",
       "      <td>September</td>\n",
       "      <td>Rick Rothackerj</td>\n",
       "      <td>28</td>\n",
       "      <td>004-07-5839</td>\n",
       "      <td>_______</td>\n",
       "      <td>34847.84</td>\n",
       "      <td>3037.987</td>\n",
       "      <td>2</td>\n",
       "      <td>4</td>\n",
       "      <td>6</td>\n",
       "      <td>1</td>\n",
       "      <td>Credit-Builder Loan</td>\n",
       "      <td>3</td>\n",
       "      <td>1</td>\n",
       "      <td>5.42</td>\n",
       "      <td>5.000</td>\n",
       "      <td>Good</td>\n",
       "      <td>605.03</td>\n",
       "      <td>25.927</td>\n",
       "      <td>27 Years and 3 Months</td>\n",
       "      <td>No</td>\n",
       "      <td>18.816</td>\n",
       "      <td>39.684018417945296</td>\n",
       "      <td>High_spent_Large_value_payments</td>\n",
       "      <td>485.2984336755923</td>\n",
       "    </tr>\n",
       "  </tbody>\n",
       "</table>\n",
       "</div>"
      ],
      "text/plain": [
       "       ID Customer_ID      Month             Name  Age          SSN  \\\n",
       "0  0x160a   CUS_0xd40  September    Aaron Maashoh   23  821-00-0265   \n",
       "1  0x160b   CUS_0xd40    October    Aaron Maashoh   24  821-00-0265   \n",
       "2  0x160c   CUS_0xd40   November    Aaron Maashoh   24  821-00-0265   \n",
       "3  0x160d   CUS_0xd40   December    Aaron Maashoh  24_  821-00-0265   \n",
       "4  0x1616  CUS_0x21b1  September  Rick Rothackerj   28  004-07-5839   \n",
       "\n",
       "  Occupation Annual_Income  Monthly_Inhand_Salary  Num_Bank_Accounts  \\\n",
       "0  Scientist      19114.12               1824.843                  3   \n",
       "1  Scientist      19114.12               1824.843                  3   \n",
       "2  Scientist      19114.12               1824.843                  3   \n",
       "3  Scientist      19114.12                    NaN                  3   \n",
       "4    _______      34847.84               3037.987                  2   \n",
       "\n",
       "   Num_Credit_Card  Interest_Rate Num_of_Loan  \\\n",
       "0                4              3           4   \n",
       "1                4              3           4   \n",
       "2                4              3           4   \n",
       "3                4              3           4   \n",
       "4                4              6           1   \n",
       "\n",
       "                                        Type_of_Loan  Delay_from_due_date  \\\n",
       "0  Auto Loan, Credit-Builder Loan, Personal Loan,...                    3   \n",
       "1  Auto Loan, Credit-Builder Loan, Personal Loan,...                    3   \n",
       "2  Auto Loan, Credit-Builder Loan, Personal Loan,...                   -1   \n",
       "3  Auto Loan, Credit-Builder Loan, Personal Loan,...                    4   \n",
       "4                                Credit-Builder Loan                    3   \n",
       "\n",
       "  Num_of_Delayed_Payment Changed_Credit_Limit  Num_Credit_Inquiries  \\\n",
       "0                      7                11.27              2022.000   \n",
       "1                      9                13.27                 4.000   \n",
       "2                      4                12.27                 4.000   \n",
       "3                      5                11.27                 4.000   \n",
       "4                      1                 5.42                 5.000   \n",
       "\n",
       "  Credit_Mix Outstanding_Debt  Credit_Utilization_Ratio  \\\n",
       "0       Good           809.98                    35.030   \n",
       "1       Good           809.98                    33.053   \n",
       "2       Good           809.98                    33.812   \n",
       "3       Good           809.98                    32.431   \n",
       "4       Good           605.03                    25.927   \n",
       "\n",
       "       Credit_History_Age Payment_of_Min_Amount  Total_EMI_per_month  \\\n",
       "0   22 Years and 9 Months                    No               49.575   \n",
       "1  22 Years and 10 Months                    No               49.575   \n",
       "2                     NaN                    No               49.575   \n",
       "3   23 Years and 0 Months                    No               49.575   \n",
       "4   27 Years and 3 Months                    No               18.816   \n",
       "\n",
       "  Amount_invested_monthly                 Payment_Behaviour  \\\n",
       "0      236.64268203272135    Low_spent_Small_value_payments   \n",
       "1      21.465380264657146  High_spent_Medium_value_payments   \n",
       "2      148.23393788500925   Low_spent_Medium_value_payments   \n",
       "3       39.08251089460281  High_spent_Medium_value_payments   \n",
       "4      39.684018417945296   High_spent_Large_value_payments   \n",
       "\n",
       "      Monthly_Balance  \n",
       "0  186.26670208571772  \n",
       "1  361.44400385378196  \n",
       "2  264.67544623342997  \n",
       "3  343.82687322383634  \n",
       "4   485.2984336755923  "
      ]
     },
     "execution_count": 6,
     "metadata": {},
     "output_type": "execute_result"
    }
   ],
   "source": [
    "df0 = pd.read_csv(\"test.csv\")\n",
    "df0.head()"
   ]
  },
  {
   "cell_type": "markdown",
   "id": "70b2b237",
   "metadata": {},
   "source": [
    "## EDA"
   ]
  },
  {
   "cell_type": "code",
   "execution_count": 7,
   "id": "b60697de",
   "metadata": {
    "ExecuteTime": {
     "end_time": "2024-04-04T21:23:34.464173Z",
     "start_time": "2024-04-04T21:23:34.418123Z"
    }
   },
   "outputs": [],
   "source": [
    "df = clean_columns(df)"
   ]
  },
  {
   "cell_type": "code",
   "execution_count": 8,
   "id": "67ec2a64",
   "metadata": {
    "ExecuteTime": {
     "end_time": "2024-04-04T21:23:35.054255Z",
     "start_time": "2024-04-04T21:23:34.973827Z"
    },
    "scrolled": true
   },
   "outputs": [
    {
     "name": "stdout",
     "output_type": "stream",
     "text": [
      "<class 'pandas.core.frame.DataFrame'>\n",
      "RangeIndex: 100000 entries, 0 to 99999\n",
      "Data columns (total 28 columns):\n",
      " #   Column                    Non-Null Count   Dtype  \n",
      "---  ------                    --------------   -----  \n",
      " 0   id                        100000 non-null  object \n",
      " 1   customer_id               100000 non-null  object \n",
      " 2   month                     100000 non-null  object \n",
      " 3   name                      90015 non-null   object \n",
      " 4   age                       100000 non-null  object \n",
      " 5   ssn                       100000 non-null  object \n",
      " 6   occupation                100000 non-null  object \n",
      " 7   annual_income             100000 non-null  object \n",
      " 8   monthly_inhand_salary     84998 non-null   float64\n",
      " 9   num_bank_accounts         100000 non-null  int64  \n",
      " 10  num_credit_card           100000 non-null  int64  \n",
      " 11  interest_rate             100000 non-null  int64  \n",
      " 12  num_of_loan               100000 non-null  object \n",
      " 13  type_of_loan              88592 non-null   object \n",
      " 14  delay_from_due_date       100000 non-null  int64  \n",
      " 15  num_of_delayed_payment    92998 non-null   object \n",
      " 16  changed_credit_limit      100000 non-null  object \n",
      " 17  num_credit_inquiries      98035 non-null   float64\n",
      " 18  credit_mix                100000 non-null  object \n",
      " 19  outstanding_debt          100000 non-null  object \n",
      " 20  credit_utilization_ratio  100000 non-null  float64\n",
      " 21  credit_history_age        90970 non-null   object \n",
      " 22  payment_of_min_amount     100000 non-null  object \n",
      " 23  total_emi_per_month       100000 non-null  float64\n",
      " 24  amount_invested_monthly   95521 non-null   object \n",
      " 25  payment_behaviour         100000 non-null  object \n",
      " 26  monthly_balance           98800 non-null   object \n",
      " 27  credit_score              100000 non-null  object \n",
      "dtypes: float64(4), int64(4), object(20)\n",
      "memory usage: 21.4+ MB\n"
     ]
    }
   ],
   "source": [
    "df.info()"
   ]
  },
  {
   "cell_type": "code",
   "execution_count": 9,
   "id": "f4df8553",
   "metadata": {
    "ExecuteTime": {
     "end_time": "2024-04-04T21:23:35.587706Z",
     "start_time": "2024-04-04T21:23:35.537480Z"
    }
   },
   "outputs": [
    {
     "data": {
      "text/html": [
       "<div>\n",
       "<style scoped>\n",
       "    .dataframe tbody tr th:only-of-type {\n",
       "        vertical-align: middle;\n",
       "    }\n",
       "\n",
       "    .dataframe tbody tr th {\n",
       "        vertical-align: top;\n",
       "    }\n",
       "\n",
       "    .dataframe thead th {\n",
       "        text-align: right;\n",
       "    }\n",
       "</style>\n",
       "<table border=\"1\" class=\"dataframe\">\n",
       "  <thead>\n",
       "    <tr style=\"text-align: right;\">\n",
       "      <th></th>\n",
       "      <th>count</th>\n",
       "      <th>mean</th>\n",
       "      <th>std</th>\n",
       "      <th>min</th>\n",
       "      <th>25%</th>\n",
       "      <th>50%</th>\n",
       "      <th>75%</th>\n",
       "      <th>max</th>\n",
       "    </tr>\n",
       "  </thead>\n",
       "  <tbody>\n",
       "    <tr>\n",
       "      <th>monthly_inhand_salary</th>\n",
       "      <td>84998.000</td>\n",
       "      <td>4194.171</td>\n",
       "      <td>3183.686</td>\n",
       "      <td>303.645</td>\n",
       "      <td>1625.568</td>\n",
       "      <td>3093.745</td>\n",
       "      <td>5957.448</td>\n",
       "      <td>15204.633</td>\n",
       "    </tr>\n",
       "    <tr>\n",
       "      <th>num_bank_accounts</th>\n",
       "      <td>100000.000</td>\n",
       "      <td>17.091</td>\n",
       "      <td>117.405</td>\n",
       "      <td>-1.000</td>\n",
       "      <td>3.000</td>\n",
       "      <td>6.000</td>\n",
       "      <td>7.000</td>\n",
       "      <td>1798.000</td>\n",
       "    </tr>\n",
       "    <tr>\n",
       "      <th>num_credit_card</th>\n",
       "      <td>100000.000</td>\n",
       "      <td>22.474</td>\n",
       "      <td>129.057</td>\n",
       "      <td>0.000</td>\n",
       "      <td>4.000</td>\n",
       "      <td>5.000</td>\n",
       "      <td>7.000</td>\n",
       "      <td>1499.000</td>\n",
       "    </tr>\n",
       "    <tr>\n",
       "      <th>interest_rate</th>\n",
       "      <td>100000.000</td>\n",
       "      <td>72.466</td>\n",
       "      <td>466.423</td>\n",
       "      <td>1.000</td>\n",
       "      <td>8.000</td>\n",
       "      <td>13.000</td>\n",
       "      <td>20.000</td>\n",
       "      <td>5797.000</td>\n",
       "    </tr>\n",
       "    <tr>\n",
       "      <th>delay_from_due_date</th>\n",
       "      <td>100000.000</td>\n",
       "      <td>21.069</td>\n",
       "      <td>14.860</td>\n",
       "      <td>-5.000</td>\n",
       "      <td>10.000</td>\n",
       "      <td>18.000</td>\n",
       "      <td>28.000</td>\n",
       "      <td>67.000</td>\n",
       "    </tr>\n",
       "    <tr>\n",
       "      <th>num_credit_inquiries</th>\n",
       "      <td>98035.000</td>\n",
       "      <td>27.754</td>\n",
       "      <td>193.177</td>\n",
       "      <td>0.000</td>\n",
       "      <td>3.000</td>\n",
       "      <td>6.000</td>\n",
       "      <td>9.000</td>\n",
       "      <td>2597.000</td>\n",
       "    </tr>\n",
       "    <tr>\n",
       "      <th>credit_utilization_ratio</th>\n",
       "      <td>100000.000</td>\n",
       "      <td>32.285</td>\n",
       "      <td>5.117</td>\n",
       "      <td>20.000</td>\n",
       "      <td>28.053</td>\n",
       "      <td>32.306</td>\n",
       "      <td>36.497</td>\n",
       "      <td>50.000</td>\n",
       "    </tr>\n",
       "    <tr>\n",
       "      <th>total_emi_per_month</th>\n",
       "      <td>100000.000</td>\n",
       "      <td>1403.118</td>\n",
       "      <td>8306.041</td>\n",
       "      <td>0.000</td>\n",
       "      <td>30.307</td>\n",
       "      <td>69.249</td>\n",
       "      <td>161.224</td>\n",
       "      <td>82331.000</td>\n",
       "    </tr>\n",
       "  </tbody>\n",
       "</table>\n",
       "</div>"
      ],
      "text/plain": [
       "                              count     mean      std     min      25%  \\\n",
       "monthly_inhand_salary     84998.000 4194.171 3183.686 303.645 1625.568   \n",
       "num_bank_accounts        100000.000   17.091  117.405  -1.000    3.000   \n",
       "num_credit_card          100000.000   22.474  129.057   0.000    4.000   \n",
       "interest_rate            100000.000   72.466  466.423   1.000    8.000   \n",
       "delay_from_due_date      100000.000   21.069   14.860  -5.000   10.000   \n",
       "num_credit_inquiries      98035.000   27.754  193.177   0.000    3.000   \n",
       "credit_utilization_ratio 100000.000   32.285    5.117  20.000   28.053   \n",
       "total_emi_per_month      100000.000 1403.118 8306.041   0.000   30.307   \n",
       "\n",
       "                              50%      75%       max  \n",
       "monthly_inhand_salary    3093.745 5957.448 15204.633  \n",
       "num_bank_accounts           6.000    7.000  1798.000  \n",
       "num_credit_card             5.000    7.000  1499.000  \n",
       "interest_rate              13.000   20.000  5797.000  \n",
       "delay_from_due_date        18.000   28.000    67.000  \n",
       "num_credit_inquiries        6.000    9.000  2597.000  \n",
       "credit_utilization_ratio   32.306   36.497    50.000  \n",
       "total_emi_per_month        69.249  161.224 82331.000  "
      ]
     },
     "execution_count": 9,
     "metadata": {},
     "output_type": "execute_result"
    }
   ],
   "source": [
    "df.describe().T"
   ]
  },
  {
   "cell_type": "code",
   "execution_count": 10,
   "id": "070a2220",
   "metadata": {
    "ExecuteTime": {
     "end_time": "2024-04-04T21:23:36.652375Z",
     "start_time": "2024-04-04T21:23:36.507709Z"
    }
   },
   "outputs": [
    {
     "data": {
      "text/html": [
       "<div>\n",
       "<style scoped>\n",
       "    .dataframe tbody tr th:only-of-type {\n",
       "        vertical-align: middle;\n",
       "    }\n",
       "\n",
       "    .dataframe tbody tr th {\n",
       "        vertical-align: top;\n",
       "    }\n",
       "\n",
       "    .dataframe thead th {\n",
       "        text-align: right;\n",
       "    }\n",
       "</style>\n",
       "<table border=\"1\" class=\"dataframe\">\n",
       "  <thead>\n",
       "    <tr style=\"text-align: right;\">\n",
       "      <th></th>\n",
       "      <th>count</th>\n",
       "      <th>percentage</th>\n",
       "    </tr>\n",
       "  </thead>\n",
       "  <tbody>\n",
       "    <tr>\n",
       "      <th>id</th>\n",
       "      <td>0</td>\n",
       "      <td>0.000</td>\n",
       "    </tr>\n",
       "    <tr>\n",
       "      <th>customer_id</th>\n",
       "      <td>0</td>\n",
       "      <td>0.000</td>\n",
       "    </tr>\n",
       "    <tr>\n",
       "      <th>month</th>\n",
       "      <td>0</td>\n",
       "      <td>0.000</td>\n",
       "    </tr>\n",
       "    <tr>\n",
       "      <th>name</th>\n",
       "      <td>9985</td>\n",
       "      <td>9.980</td>\n",
       "    </tr>\n",
       "    <tr>\n",
       "      <th>age</th>\n",
       "      <td>0</td>\n",
       "      <td>0.000</td>\n",
       "    </tr>\n",
       "    <tr>\n",
       "      <th>ssn</th>\n",
       "      <td>0</td>\n",
       "      <td>0.000</td>\n",
       "    </tr>\n",
       "    <tr>\n",
       "      <th>occupation</th>\n",
       "      <td>0</td>\n",
       "      <td>0.000</td>\n",
       "    </tr>\n",
       "    <tr>\n",
       "      <th>annual_income</th>\n",
       "      <td>0</td>\n",
       "      <td>0.000</td>\n",
       "    </tr>\n",
       "    <tr>\n",
       "      <th>monthly_inhand_salary</th>\n",
       "      <td>15002</td>\n",
       "      <td>15.000</td>\n",
       "    </tr>\n",
       "    <tr>\n",
       "      <th>num_bank_accounts</th>\n",
       "      <td>0</td>\n",
       "      <td>0.000</td>\n",
       "    </tr>\n",
       "    <tr>\n",
       "      <th>num_credit_card</th>\n",
       "      <td>0</td>\n",
       "      <td>0.000</td>\n",
       "    </tr>\n",
       "    <tr>\n",
       "      <th>interest_rate</th>\n",
       "      <td>0</td>\n",
       "      <td>0.000</td>\n",
       "    </tr>\n",
       "    <tr>\n",
       "      <th>num_of_loan</th>\n",
       "      <td>0</td>\n",
       "      <td>0.000</td>\n",
       "    </tr>\n",
       "    <tr>\n",
       "      <th>type_of_loan</th>\n",
       "      <td>11408</td>\n",
       "      <td>11.410</td>\n",
       "    </tr>\n",
       "    <tr>\n",
       "      <th>delay_from_due_date</th>\n",
       "      <td>0</td>\n",
       "      <td>0.000</td>\n",
       "    </tr>\n",
       "    <tr>\n",
       "      <th>num_of_delayed_payment</th>\n",
       "      <td>7002</td>\n",
       "      <td>7.000</td>\n",
       "    </tr>\n",
       "    <tr>\n",
       "      <th>changed_credit_limit</th>\n",
       "      <td>0</td>\n",
       "      <td>0.000</td>\n",
       "    </tr>\n",
       "    <tr>\n",
       "      <th>num_credit_inquiries</th>\n",
       "      <td>1965</td>\n",
       "      <td>1.960</td>\n",
       "    </tr>\n",
       "    <tr>\n",
       "      <th>credit_mix</th>\n",
       "      <td>0</td>\n",
       "      <td>0.000</td>\n",
       "    </tr>\n",
       "    <tr>\n",
       "      <th>outstanding_debt</th>\n",
       "      <td>0</td>\n",
       "      <td>0.000</td>\n",
       "    </tr>\n",
       "    <tr>\n",
       "      <th>credit_utilization_ratio</th>\n",
       "      <td>0</td>\n",
       "      <td>0.000</td>\n",
       "    </tr>\n",
       "    <tr>\n",
       "      <th>credit_history_age</th>\n",
       "      <td>9030</td>\n",
       "      <td>9.030</td>\n",
       "    </tr>\n",
       "    <tr>\n",
       "      <th>payment_of_min_amount</th>\n",
       "      <td>0</td>\n",
       "      <td>0.000</td>\n",
       "    </tr>\n",
       "    <tr>\n",
       "      <th>total_emi_per_month</th>\n",
       "      <td>0</td>\n",
       "      <td>0.000</td>\n",
       "    </tr>\n",
       "    <tr>\n",
       "      <th>amount_invested_monthly</th>\n",
       "      <td>4479</td>\n",
       "      <td>4.480</td>\n",
       "    </tr>\n",
       "    <tr>\n",
       "      <th>payment_behaviour</th>\n",
       "      <td>0</td>\n",
       "      <td>0.000</td>\n",
       "    </tr>\n",
       "    <tr>\n",
       "      <th>monthly_balance</th>\n",
       "      <td>1200</td>\n",
       "      <td>1.200</td>\n",
       "    </tr>\n",
       "    <tr>\n",
       "      <th>credit_score</th>\n",
       "      <td>0</td>\n",
       "      <td>0.000</td>\n",
       "    </tr>\n",
       "  </tbody>\n",
       "</table>\n",
       "</div>"
      ],
      "text/plain": [
       "                          count  percentage\n",
       "id                            0       0.000\n",
       "customer_id                   0       0.000\n",
       "month                         0       0.000\n",
       "name                       9985       9.980\n",
       "age                           0       0.000\n",
       "ssn                           0       0.000\n",
       "occupation                    0       0.000\n",
       "annual_income                 0       0.000\n",
       "monthly_inhand_salary     15002      15.000\n",
       "num_bank_accounts             0       0.000\n",
       "num_credit_card               0       0.000\n",
       "interest_rate                 0       0.000\n",
       "num_of_loan                   0       0.000\n",
       "type_of_loan              11408      11.410\n",
       "delay_from_due_date           0       0.000\n",
       "num_of_delayed_payment     7002       7.000\n",
       "changed_credit_limit          0       0.000\n",
       "num_credit_inquiries       1965       1.960\n",
       "credit_mix                    0       0.000\n",
       "outstanding_debt              0       0.000\n",
       "credit_utilization_ratio      0       0.000\n",
       "credit_history_age         9030       9.030\n",
       "payment_of_min_amount         0       0.000\n",
       "total_emi_per_month           0       0.000\n",
       "amount_invested_monthly    4479       4.480\n",
       "payment_behaviour             0       0.000\n",
       "monthly_balance            1200       1.200\n",
       "credit_score                  0       0.000"
      ]
     },
     "execution_count": 10,
     "metadata": {},
     "output_type": "execute_result"
    }
   ],
   "source": [
    "missing_count = df.isnull().sum()\n",
    "value_count = df.isnull().count()\n",
    "missing_percentage = round(missing_count / value_count * 100, 2)\n",
    "missing_df = pd.DataFrame({\"count\": missing_count, \"percentage\": missing_percentage})\n",
    "missing_df"
   ]
  },
  {
   "cell_type": "markdown",
   "id": "2ba30f80",
   "metadata": {},
   "source": [
    "### Drop Unnecessary Columns"
   ]
  },
  {
   "cell_type": "code",
   "execution_count": 11,
   "id": "211ab429",
   "metadata": {
    "ExecuteTime": {
     "end_time": "2024-04-04T21:23:38.136325Z",
     "start_time": "2024-04-04T21:23:38.104061Z"
    }
   },
   "outputs": [],
   "source": [
    "df = df.drop(columns=['id', 'customer_id', 'name', 'ssn', 'type_of_loan'], axis = 1)"
   ]
  },
  {
   "cell_type": "markdown",
   "id": "5e1205bc",
   "metadata": {},
   "source": [
    "### Monthly Inhand Salary"
   ]
  },
  {
   "cell_type": "code",
   "execution_count": 12,
   "id": "c61c673b",
   "metadata": {
    "ExecuteTime": {
     "end_time": "2024-04-04T21:23:39.674181Z",
     "start_time": "2024-04-04T21:23:39.668269Z"
    }
   },
   "outputs": [],
   "source": [
    "df['monthly_inhand_salary'].fillna(df['monthly_inhand_salary'].median(), inplace=True)"
   ]
  },
  {
   "cell_type": "markdown",
   "id": "ce3c71a3",
   "metadata": {},
   "source": [
    "### Num of Delayed Payment"
   ]
  },
  {
   "cell_type": "code",
   "execution_count": 13,
   "id": "4df2c71d",
   "metadata": {
    "ExecuteTime": {
     "end_time": "2024-04-04T21:23:41.920030Z",
     "start_time": "2024-04-04T21:23:41.800861Z"
    }
   },
   "outputs": [],
   "source": [
    "df['num_of_delayed_payment'] = df['num_of_delayed_payment'].str.replace('-', '').str.replace('_', '')\n",
    "df['num_of_delayed_payment'] = pd.to_numeric(df['num_of_delayed_payment'], errors='coerce')\n",
    "\n",
    "df['num_of_delayed_payment'].fillna(df['num_of_delayed_payment'].median(), inplace=True)"
   ]
  },
  {
   "cell_type": "code",
   "execution_count": 14,
   "id": "c042bc00",
   "metadata": {
    "ExecuteTime": {
     "end_time": "2024-04-04T21:23:43.297240Z",
     "start_time": "2024-04-04T21:23:43.286702Z"
    }
   },
   "outputs": [
    {
     "data": {
      "text/plain": [
       "num_of_delayed_payment\n",
       "14.000      11195\n",
       "19.000       5481\n",
       "17.000       5412\n",
       "16.000       5312\n",
       "10.000       5309\n",
       "            ...  \n",
       "848.000         1\n",
       "4134.000        1\n",
       "1530.000        1\n",
       "1502.000        1\n",
       "2047.000        1\n",
       "Name: count, Length: 708, dtype: int64"
      ]
     },
     "execution_count": 14,
     "metadata": {},
     "output_type": "execute_result"
    }
   ],
   "source": [
    "df['num_of_delayed_payment'].value_counts()"
   ]
  },
  {
   "cell_type": "markdown",
   "id": "e16f16f6",
   "metadata": {},
   "source": [
    "### Num Credit Inquiries"
   ]
  },
  {
   "cell_type": "code",
   "execution_count": null,
   "id": "de02a0d4",
   "metadata": {
    "ExecuteTime": {
     "end_time": "2024-04-04T21:19:52.803734Z",
     "start_time": "2024-04-04T21:19:52.798224Z"
    }
   },
   "outputs": [],
   "source": [
    "df['num_credit_inquiries'].fillna(df['num_credit_inquiries'].median(), inplace=True)"
   ]
  },
  {
   "cell_type": "markdown",
   "id": "fcaa4a4f",
   "metadata": {},
   "source": [
    "### Payment of Min Amount"
   ]
  },
  {
   "cell_type": "code",
   "execution_count": null,
   "id": "3bd506dd",
   "metadata": {
    "ExecuteTime": {
     "end_time": "2024-04-04T21:19:53.695648Z",
     "start_time": "2024-04-04T21:19:53.609081Z"
    }
   },
   "outputs": [],
   "source": [
    "df['payment_of_min_amount'].replace({'NM': 'No'}, inplace=True)\n",
    "df = pd.get_dummies(df, columns=['credit_mix', 'payment_of_min_amount'])"
   ]
  },
  {
   "cell_type": "markdown",
   "id": "2aa671cf",
   "metadata": {
    "ExecuteTime": {
     "end_time": "2024-04-04T20:32:42.578432Z",
     "start_time": "2024-04-04T20:32:42.573509Z"
    }
   },
   "source": [
    "### Credit History Age Months"
   ]
  },
  {
   "cell_type": "code",
   "execution_count": null,
   "id": "df1f1212",
   "metadata": {
    "ExecuteTime": {
     "end_time": "2024-04-04T21:19:54.608507Z",
     "start_time": "2024-04-04T21:19:54.457263Z"
    },
    "scrolled": true
   },
   "outputs": [],
   "source": [
    "def years_months_to_months(period):\n",
    "    if pd.isnull(period):\n",
    "        return period\n",
    "    \n",
    "    parts = period.split(' ')\n",
    "    years = int(parts[0])\n",
    "    months = int(parts[3])\n",
    "    total_months = years * 12 + months\n",
    "    return total_months\n",
    "\n",
    "df['credit_history_age_months'] = df['credit_history_age'].apply(years_months_to_months)\n",
    "\n",
    "df[['credit_history_age', 'credit_history_age_months']].head()"
   ]
  },
  {
   "cell_type": "code",
   "execution_count": null,
   "id": "26a77694",
   "metadata": {
    "ExecuteTime": {
     "end_time": "2024-04-04T21:19:55.232194Z",
     "start_time": "2024-04-04T21:19:55.225913Z"
    }
   },
   "outputs": [],
   "source": [
    "df['credit_history_age_months'].fillna(df['credit_history_age_months'].median(), inplace=True)"
   ]
  },
  {
   "cell_type": "code",
   "execution_count": null,
   "id": "f74c58ee",
   "metadata": {
    "ExecuteTime": {
     "end_time": "2024-04-04T21:19:55.780424Z",
     "start_time": "2024-04-04T21:19:55.754322Z"
    }
   },
   "outputs": [],
   "source": [
    "df = df.drop('credit_history_age', axis = 1)"
   ]
  },
  {
   "cell_type": "markdown",
   "id": "3ccd785e",
   "metadata": {},
   "source": [
    "### Amount Invested Monthly"
   ]
  },
  {
   "cell_type": "code",
   "execution_count": null,
   "id": "e18ba7c5",
   "metadata": {
    "ExecuteTime": {
     "end_time": "2024-04-04T21:19:56.653561Z",
     "start_time": "2024-04-04T21:19:56.601394Z"
    }
   },
   "outputs": [],
   "source": [
    "df['amount_invested_monthly'] = pd.to_numeric(df['amount_invested_monthly'], errors='coerce')\n",
    "\n",
    "median_amount_invested_monthly = df['amount_invested_monthly'].median()\n",
    "\n",
    "df['amount_invested_monthly'].fillna(median_amount_invested_monthly, inplace=True)"
   ]
  },
  {
   "cell_type": "markdown",
   "id": "f022d9e5",
   "metadata": {},
   "source": [
    "### Monthly Balance"
   ]
  },
  {
   "cell_type": "code",
   "execution_count": null,
   "id": "6936fb94",
   "metadata": {
    "ExecuteTime": {
     "end_time": "2024-04-04T21:19:57.399704Z",
     "start_time": "2024-04-04T21:19:57.351106Z"
    }
   },
   "outputs": [],
   "source": [
    "df['monthly_balance'] = pd.to_numeric(df['monthly_balance'], errors='coerce')\n",
    "\n",
    "median_monthly_balance = df['monthly_balance'].median()\n",
    "\n",
    "df['monthly_balance'].fillna(median_monthly_balance, inplace=True)\n"
   ]
  },
  {
   "cell_type": "code",
   "execution_count": null,
   "id": "eb1e9082",
   "metadata": {
    "ExecuteTime": {
     "end_time": "2024-04-04T21:20:30.893084Z",
     "start_time": "2024-04-04T21:20:30.808274Z"
    }
   },
   "outputs": [],
   "source": [
    "missing_count = df.isnull().sum()\n",
    "value_count = df.isnull().count()\n",
    "missing_percentage = round(missing_count / value_count * 100, 2)\n",
    "missing_df = pd.DataFrame({\"count\": missing_count, \"percentage\": missing_percentage})\n",
    "missing_df"
   ]
  },
  {
   "cell_type": "markdown",
   "id": "9273601b",
   "metadata": {},
   "source": [
    "## Data Visualization"
   ]
  },
  {
   "cell_type": "code",
   "execution_count": null,
   "id": "1a2b2239",
   "metadata": {
    "ExecuteTime": {
     "end_time": "2024-04-04T21:18:27.847082Z",
     "start_time": "2024-04-04T21:18:27.694316Z"
    }
   },
   "outputs": [],
   "source": [
    "for column in df.columns:\n",
    "    unique_values = df[column].unique()\n",
    "    unique_count = len(unique_values)\n",
    "   \n",
    "    print(f\"\\033[1m\\033[91mColumn:\\033[0m \\033[1m\\033[94m{column}\\033[0m\")\n",
    "    print(f\"\\033[1m\\033[92mNumber of Unique Values:\\033[93m {unique_count}\")\n",
    "    \n",
    "    if unique_count <= 10:\n",
    "        print(f\"\\033[1mUnique Values:\\033[0m {unique_values}\\n\")\n",
    "    else:\n",
    "        print(f\"\\033[95mFirst 10 Unique Values:\\033[0m {unique_values[:10]}\")\n",
    "        print(f\"... and {unique_count - 10} more unique values\\n\")"
   ]
  },
  {
   "cell_type": "code",
   "execution_count": null,
   "id": "5982e98c",
   "metadata": {
    "ExecuteTime": {
     "end_time": "2024-04-04T21:18:28.680601Z",
     "start_time": "2024-04-04T21:18:28.283109Z"
    }
   },
   "outputs": [],
   "source": [
    "ax = sns.countplot(x=df[\"credit_score\"], palette='Set1')\n",
    "ax.spines[\"top\"].set_visible(False)\n",
    "ax.spines[\"right\"].set_visible(False)\n",
    "for p in ax.patches:\n",
    "    ax.annotate(f'{int(p.get_height())}',\n",
    "                (p.get_x() + p.get_width() / 2., p.get_height()),\n",
    "                ha='center', va='center',\n",
    "                xytext=(0, 10),\n",
    "                textcoords='offset points')\n",
    "plt.show()"
   ]
  },
  {
   "cell_type": "code",
   "execution_count": null,
   "id": "c9c29ef2",
   "metadata": {
    "ExecuteTime": {
     "end_time": "2024-04-04T21:18:34.914391Z",
     "start_time": "2024-04-04T21:18:28.744816Z"
    }
   },
   "outputs": [],
   "source": [
    "max_unique_values = 100\n",
    "\n",
    "for col in df.columns:\n",
    "    if col in df and df[col].nunique() <= max_unique_values:\n",
    "        plt.figure(figsize=(12, 6))\n",
    "        ax = sns.countplot(x=col, data= df, palette=\"colorblind\")\n",
    "        \n",
    "        plt.title(f\"Count by {col}\")\n",
    "        plt.xticks(rotation=90)  # Rotate x-axis labels for better readability\n",
    "        \n",
    "        # Adding counts above each bar\n",
    "        for p in ax.patches:\n",
    "            ax.annotate(f'{int(p.get_height())}', (p.get_x() + p.get_width() / 2., p.get_height()),\n",
    "                        ha='center', va='center', fontsize=11, color='black', xytext=(0, 5),\n",
    "                        textcoords='offset points')\n",
    "        \n",
    "plt.show()"
   ]
  },
  {
   "cell_type": "code",
   "execution_count": null,
   "id": "71cf336f",
   "metadata": {
    "ExecuteTime": {
     "start_time": "2024-04-04T21:18:29.249Z"
    }
   },
   "outputs": [],
   "source": [
    "numeric_cols = df.select_dtypes(include=['number']).columns\n",
    "\n",
    "for col in numeric_cols:\n",
    "    g = sns.histplot(df[col], color=\"b\", kde=True, label=f\"Skewness : {df[col].skew():.2f}\")\n",
    "    plt.legend(loc=\"best\")\n",
    "    plt.title(f\"Distribution of {col}\")\n",
    "    plt.xlabel(col)\n",
    "    plt.ylabel('Frequency')\n",
    "    plt.show()"
   ]
  },
  {
   "cell_type": "code",
   "execution_count": null,
   "id": "c811c6f6",
   "metadata": {
    "ExecuteTime": {
     "start_time": "2024-04-04T21:17:37.280Z"
    },
    "scrolled": true
   },
   "outputs": [],
   "source": [
    "import plotly.express as px\n",
    "\n",
    "def create_pie_chart_of_count(df, column_name):\n",
    "    df_not_null = df[~df[column_name].isnull()]\n",
    "    fig = px.pie(df_not_null.groupby([column_name]).size().reset_index(name='count'), names=column_name, values='count')\n",
    "    fig.show()\n",
    "\n",
    "create_pie_chart_of_count(df, 'credit_score')\n",
    "create_pie_chart_of_count(df, 'payment_behaviour')\n",
    "create_pie_chart_of_count(df, 'occupation')"
   ]
  },
  {
   "cell_type": "code",
   "execution_count": null,
   "id": "8bf7bb65",
   "metadata": {
    "ExecuteTime": {
     "start_time": "2024-04-04T21:17:37.285Z"
    }
   },
   "outputs": [],
   "source": [
    "sns.heatmap(df.corr(numeric_only=True), annot=True);"
   ]
  },
  {
   "cell_type": "code",
   "execution_count": null,
   "id": "d2cee5bb",
   "metadata": {
    "ExecuteTime": {
     "start_time": "2024-04-04T21:17:37.288Z"
    }
   },
   "outputs": [],
   "source": [
    "df_numeric = df.select_dtypes(include =\"number\")\n",
    "df_numeric"
   ]
  },
  {
   "cell_type": "code",
   "execution_count": null,
   "id": "674af372",
   "metadata": {
    "ExecuteTime": {
     "start_time": "2024-04-04T21:17:37.291Z"
    }
   },
   "outputs": [],
   "source": [
    "def color_correlation1(val):\n",
    "    \"\"\"\n",
    "    Takes a scalar and returns a string with\n",
    "    the css property in a variety of color scales \n",
    "    for different correlations.\n",
    "    \"\"\"\n",
    "    if val >= 0.6 and val < 0.99999 or val <= -0.6 and val > -0.99999:\n",
    "        color = 'red'\n",
    "    elif val < 0.6 and val >= 0.3 or val > -0.6 and val <= -0.3:\n",
    "        color = 'blue'\n",
    "    elif val == 1:\n",
    "        color = 'green'    \n",
    "    else:\n",
    "        color = 'black'\n",
    "    return 'color: %s' % color\n",
    "\n",
    "\n",
    "df_numeric.corr().style.applymap(color_correlation1)"
   ]
  },
  {
   "cell_type": "code",
   "execution_count": null,
   "id": "414b91b0",
   "metadata": {
    "ExecuteTime": {
     "start_time": "2024-04-04T21:17:37.294Z"
    }
   },
   "outputs": [],
   "source": [
    "sns.pairplot(data=df, hue=\"credit_score\")\n",
    "plt.show()"
   ]
  },
  {
   "cell_type": "markdown",
   "id": "ef9339f1",
   "metadata": {
    "ExecuteTime": {
     "end_time": "2024-04-04T20:42:11.359476Z",
     "start_time": "2024-04-04T20:42:11.355337Z"
    }
   },
   "source": [
    "## Data Preprocessing"
   ]
  },
  {
   "cell_type": "markdown",
   "id": "1ca4c516",
   "metadata": {},
   "source": [
    "### Month"
   ]
  },
  {
   "cell_type": "code",
   "execution_count": null,
   "id": "8f614c8b",
   "metadata": {
    "ExecuteTime": {
     "start_time": "2024-04-04T21:17:37.297Z"
    }
   },
   "outputs": [],
   "source": [
    "months = {'January': 1, 'February': 2, 'March': 3, 'April': 4, 'May': 5, 'June': 6, 'July': 7, 'August': 8}\n",
    "df['Month'] = df['month'].map(months)"
   ]
  },
  {
   "cell_type": "markdown",
   "id": "10bf9b89",
   "metadata": {},
   "source": [
    "### Occupation"
   ]
  },
  {
   "cell_type": "code",
   "execution_count": null,
   "id": "df0b81d7",
   "metadata": {
    "ExecuteTime": {
     "start_time": "2024-04-04T21:17:37.301Z"
    }
   },
   "outputs": [],
   "source": [
    "df['occupation'].replace('________', 'Unknown', inplace=True)\n",
    "\n",
    "less_frequent_occupations = ['Musician', 'Journalist'] # example categories to combine\n",
    "df['occupation'] = df['occupation'].apply(lambda x: 'Other' if x in less_frequent_occupations else x)\n",
    "\n",
    "df = pd.get_dummies(df, columns=['occupation'])"
   ]
  },
  {
   "cell_type": "markdown",
   "id": "d2243fc3",
   "metadata": {},
   "source": [
    "### Credit Score "
   ]
  },
  {
   "cell_type": "code",
   "execution_count": null,
   "id": "03803b65",
   "metadata": {
    "ExecuteTime": {
     "start_time": "2024-04-04T21:17:37.307Z"
    }
   },
   "outputs": [],
   "source": [
    "df['credit_score'].value_counts()"
   ]
  },
  {
   "cell_type": "code",
   "execution_count": null,
   "id": "804996e4",
   "metadata": {
    "ExecuteTime": {
     "start_time": "2024-04-04T21:17:37.310Z"
    }
   },
   "outputs": [],
   "source": [
    "class_mapping = {'Good': 0, 'Standard': 1, 'Poor': 2}\n",
    "df['credit_score'] = df['credit_score'].map(class_mapping)"
   ]
  },
  {
   "cell_type": "markdown",
   "id": "d4b3419c",
   "metadata": {},
   "source": [
    "## Train - Test Split"
   ]
  },
  {
   "cell_type": "code",
   "execution_count": null,
   "id": "f270fe95",
   "metadata": {},
   "outputs": [],
   "source": []
  }
 ],
 "metadata": {
  "kernelspec": {
   "display_name": "Python 3 (ipykernel)",
   "language": "python",
   "name": "python3"
  },
  "language_info": {
   "codemirror_mode": {
    "name": "ipython",
    "version": 3
   },
   "file_extension": ".py",
   "mimetype": "text/x-python",
   "name": "python",
   "nbconvert_exporter": "python",
   "pygments_lexer": "ipython3",
   "version": "3.11.7"
  },
  "toc": {
   "base_numbering": 1,
   "nav_menu": {},
   "number_sections": true,
   "sideBar": true,
   "skip_h1_title": false,
   "title_cell": "Table of Contents",
   "title_sidebar": "Contents",
   "toc_cell": false,
   "toc_position": {
    "height": "calc(100% - 180px)",
    "left": "10px",
    "top": "150px",
    "width": "375.797px"
   },
   "toc_section_display": true,
   "toc_window_display": true
  }
 },
 "nbformat": 4,
 "nbformat_minor": 5
}
